{
 "metadata": {
  "language_info": {
   "codemirror_mode": {
    "name": "ipython",
    "version": 3
   },
   "file_extension": ".py",
   "mimetype": "text/x-python",
   "name": "python",
   "nbconvert_exporter": "python",
   "pygments_lexer": "ipython3",
   "version": "3.8.6-final"
  },
  "orig_nbformat": 2,
  "kernelspec": {
   "name": "Python 3.8.6 64-bit",
   "display_name": "Python 3.8.6 64-bit",
   "metadata": {
    "interpreter": {
     "hash": "95ab7303ed2746327945aa376054eddca8c4eca362915ff95db932dbe7e7ee41"
    }
   }
  }
 },
 "nbformat": 4,
 "nbformat_minor": 2,
 "cells": [
  {
   "cell_type": "code",
   "execution_count": 1,
   "metadata": {},
   "outputs": [
    {
     "output_type": "stream",
     "name": "stdout",
     "text": [
      "Вправа 1. Вводиться число n. Вивести масив разміра nхn, в якому по діагоналі йдуть числа від 1 до n, а інші числа рівні 0\n",
      "[[1 0 0 0 0]\n",
      " [0 2 0 0 0]\n",
      " [0 0 3 0 0]\n",
      " [0 0 0 4 0]\n",
      " [0 0 0 0 5]]\n"
     ]
    }
   ],
   "source": [
    "import numpy as np\n",
    "print(\"Вправа 1. Вводиться число n. Вивести масив разміра nхn, в якому по діагоналі йдуть числа від 1 до n, а інші числа рівні 0\")\n",
    "n = int(input(\"n: \"))\n",
    "diag = np.arange(1,n+1,1)\n",
    "print(np.diag(diag))"
   ]
  },
  {
   "cell_type": "code",
   "execution_count": 4,
   "metadata": {},
   "outputs": [
    {
     "output_type": "stream",
     "name": "stdout",
     "text": [
      "Вправа 3. Вводяться 4 числа n, m, r, c. Вивести масив розміру n на m, в якому в кожному r -му рядку і в кожному c-му стовбчику стоять 0,а інші елементи дорівнюють 1.\n",
      "[[0. 0. 0. 0. 0.]\n",
      " [0. 1. 1. 0. 1.]\n",
      " [0. 0. 0. 0. 0.]\n",
      " [0. 1. 1. 0. 1.]\n",
      " [0. 0. 0. 0. 0.]]\n"
     ]
    }
   ],
   "source": [
    "print(\"Вправа 3. Вводяться 4 числа n, m, r, c. Вивести масив розміру n на m, в якому в кожному r -му рядку і в кожному c-му стовбчику стоять 0,а інші елементи дорівнюють 1.\")\n",
    "n = int(input())\n",
    "m = int(input())\n",
    "r = int(input())\n",
    "c = int(input())\n",
    "arr = np.ones((n, m))\n",
    "arr[::r] = 0\n",
    "arr[:, ::c] = 0\n",
    "print(arr)"
   ]
  },
  {
   "cell_type": "code",
   "execution_count": 6,
   "metadata": {},
   "outputs": [
    {
     "output_type": "stream",
     "name": "stdout",
     "text": [
      "Вправа 6. З клавіатури вводиться масив. Замінити всі ненульові елементи на -1.\n",
      "[-1 -1 -1  0 -1  0 -1  0]\n"
     ]
    }
   ],
   "source": [
    "print(\"Вправа 6. З клавіатури вводиться масив. Замінити всі ненульові елементи на -1.\")\n",
    "arr = np.array(input().split(), dtype =int)\n",
    "arr[arr!=0]=-1\n",
    "print(arr)"
   ]
  },
  {
   "cell_type": "code",
   "execution_count": 9,
   "metadata": {},
   "outputs": [
    {
     "output_type": "stream",
     "name": "stdout",
     "text": [
      "Вправа 8. З клавіатури вводиться масив. Підрахувати в ньому кількість нульових та ненульвих елементів.\n",
      "Нулів:  3\n",
      "Не нулів:  4\n"
     ]
    }
   ],
   "source": [
    "print(\"Вправа 8. З клавіатури вводиться масив. Підрахувати в ньому кількість нульових та ненульвих елементів.\")\n",
    "n = [int(i) for i in input().split()]\n",
    "x = np.array(n)\n",
    "print('Нулів: ', len(x[x == 0]))\n",
    "print('Не нулів: ', len(x[x != 0]))\n",
    "   "
   ]
  },
  {
   "cell_type": "code",
   "execution_count": 10,
   "metadata": {},
   "outputs": [
    {
     "output_type": "stream",
     "name": "stdout",
     "text": [
      "Вправа 12. Створити масив одиниць розміром n х n та створити в ньому «рамку», сформовану з 0.\n",
      "[[0. 0. 0. 0. 0.]\n",
      " [0. 1. 1. 1. 0.]\n",
      " [0. 1. 1. 1. 0.]\n",
      " [0. 1. 1. 1. 0.]\n",
      " [0. 0. 0. 0. 0.]]\n"
     ]
    }
   ],
   "source": [
    "print(\"Вправа 12. Створити масив одиниць розміром n х n та створити в ньому «рамку», сформовану з 0.\")\n",
    "n = int(input('Введите размерность матрицы '))\n",
    "arr = np.ones((n, n), dtype=float)\n",
    "arr[:1:] = 0\n",
    "arr[-1:] = 0\n",
    "arr[::1,0:1] = 0\n",
    "arr[::1,-1::] = 0\n",
    "print(arr)"
   ]
  },
  {
   "cell_type": "code",
   "execution_count": 17,
   "metadata": {},
   "outputs": [
    {
     "output_type": "stream",
     "name": "stdout",
     "text": [
      "Визначити індекс 100 елемента в лінійному масиві, якщо його перетворять у матрицю розміром 4х5х6.\n(array([3], dtype=int64), array([1], dtype=int64), array([3], dtype=int64))\n"
     ]
    }
   ],
   "source": [
    "print(\"Визначити індекс 100 елемента в лінійному масиві, якщо його перетворять у матрицю розміром 4х5х6.\")\n",
    "arr = np.empty(120)\n",
    "filler = np.arange(1,120,1)\n",
    "index = np.arange(arr.size)\n",
    "np.put(arr,index,filler)\n",
    "newArr = np.reshape(arr, (4,5,6))\n",
    "print(np.where(newArr == 100))"
   ]
  },
  {
   "cell_type": "code",
   "execution_count": 18,
   "metadata": {},
   "outputs": [
    {
     "output_type": "stream",
     "name": "stdout",
     "text": [
      "Вправа 16. Заповнити парні стовбчики матриці розміром n х n одиницями, а непарні – нулями.\n",
      "[[0 1 0 1]\n",
      " [0 1 0 1]\n",
      " [0 1 0 1]\n",
      " [0 1 0 1]]\n"
     ]
    }
   ],
   "source": [
    "print(\"Вправа 16. Заповнити парні стовбчики матриці розміром n х n одиницями, а непарні – нулями.\")\n",
    "n = int(input())\n",
    "arr = np.empty((n, n), dtype=np.int8)\n",
    "arr[:, ::2] = 0\n",
    "arr[:, 1::2] = 1\n",
    "print(arr)"
   ]
  },
  {
   "cell_type": "code",
   "execution_count": 21,
   "metadata": {},
   "outputs": [
    {
     "output_type": "stream",
     "name": "stdout",
     "text": [
      "Вправа 18. Заповнити вектор значеннями від 0 до n. Замінити знаки для всіх значеннь, що менші за n/2 та більші за 3n/4 на протилежні\n",
      "[ 0 -1 -2 -3  4  5 -6 -7]\n"
     ]
    }
   ],
   "source": [
    "print(\"Вправа 18. Заповнити вектор значеннями від 0 до n. Замінити знаки для всіх значеннь, що менші за n/2 та більші за 3n/4 на протилежні\")\n",
    "n = int(input())\n",
    "arr = np.arange(0,n+1)\n",
    "arr[(arr < n/2) ^ (arr > 3*n/4)] *= -1\n",
    "print(arr)"
   ]
  },
  {
   "cell_type": "code",
   "execution_count": 25,
   "metadata": {},
   "outputs": [
    {
     "output_type": "stream",
     "name": "stdout",
     "text": [
      "Вправа 20. Згенерувати вектор із n елементів, що рівномірно розміщені на інтервалі (0,1) – тобто обидва кінці інтервалу не включені. Значення вивести до 3 знаків після коми.\n",
      "[0.5]\n"
     ]
    }
   ],
   "source": [
    "print(\"Вправа 20. Згенерувати вектор із n елементів, що рівномірно розміщені на інтервалі (0,1) – тобто обидва кінці інтервалу не включені. Значення вивести до 3 знаків після коми.\")\n",
    "n = int(input())\n",
    "arr = np.linspace(0,1,n)[1:-1]\n",
    "print(arr)"
   ]
  },
  {
   "cell_type": "code",
   "execution_count": 27,
   "metadata": {},
   "outputs": [
    {
     "output_type": "stream",
     "name": "stdout",
     "text": [
      "Вправа 22. Ввести числа n і m. Згенерувати матрицю n на n випадкових цілих елементів з діапазону [0, m]. Замінити всі максимальні елементи цієї матриці на протилежні за знаком.\n",
      "Початковий вектор\n",
      " [[4 4 0 1 2]\n",
      " [2 5 4 4 3]\n",
      " [4 3 4 1 5]]\n",
      "Змінений вектор\n",
      " [[ 4  4  0  1  2]\n",
      " [ 2 -5  4  4  3]\n",
      " [ 4  3  4  1 -5]]\n"
     ]
    }
   ],
   "source": [
    "print(\"Вправа 22. Ввести числа n і m. Згенерувати матрицю n на n випадкових цілих елементів з діапазону [0, m]. Замінити всі максимальні елементи цієї матриці на протилежні за знаком.\")\n",
    "n = int(input())\n",
    "m = int(input())\n",
    "matr = np.random.randint(0, m+1, (n, m))\n",
    "print('Початковий вектор\\n', matr)\n",
    "matr[matr == np.max(matr)] *= -1\n",
    "print('Змінений вектор\\n', matr)"
   ]
  },
  {
   "cell_type": "code",
   "execution_count": 29,
   "metadata": {},
   "outputs": [
    {
     "output_type": "stream",
     "name": "stdout",
     "text": [
      "2. Розв’язати систему за допомогою формул Крамера і виконати перевірку задопомогою: a) матричного множення; b) функції numpy.linalg.solv(.\nРiшення системи:\nX = [ 1.00000000e+00 -1.00000000e+00 -9.36750677e-17  2.00000000e+00]\nПеревiрка матричним множенням (A * X) = :\n [1.20000000e+01 1.20000000e+01 1.77635684e-15 4.00000000e+00]\nПеревiрка за допомогою функції linalg.solve():\n [[ 1.00000000e+00]\n [-1.00000000e+00]\n [-1.01770444e-16]\n [ 2.00000000e+00]]\n"
     ]
    }
   ],
   "source": [
    "print(\"2. Розв’язати систему за допомогою формул Крамера і виконати перевірку задопомогою: a) матричного множення; b) функції numpy.linalg.solv(.\")\n",
    "sl = np.array([[2, -6, 2, 2, 12], [1, 3, 5, 7, 12], [3, 5, 7, 1, 0], [5, 7, 1, 3, 4]])\n",
    "det_0 = np.linalg.det(sl[:,:4])\n",
    "det_1 = np.linalg.det(np.concatenate((sl[:,4:5], sl[:,1:4]), axis=1))\n",
    "det_2 = np.linalg.det(np.concatenate((np.concatenate((sl[:, 0:1], sl[:,4:5]), axis=1), sl[:, 2:4]), axis=1))\n",
    "det_3 = np.linalg.det(np.concatenate((np.concatenate((sl[:, 0:2], sl[:,4:5]), axis=1), sl[:, 3:4]), axis=1))\n",
    "det_4 = np.linalg.det(np.concatenate((sl[:, :3], sl[:, 4:5]), axis=1))\n",
    "x1 = det_1 / det_0\n",
    "x2 = det_2 / det_0\n",
    "x3 = det_3 / det_0\n",
    "x4 = det_4 / det_0\n",
    "x = np.array([x1, x2, x3, x4])\n",
    "print('Рiшення системи:\\nX =', x)\n",
    "print('Перевiрка матричним множенням (A * X) = :\\n', np.dot(sl[:, :4], x))\n",
    "print('Перевiрка за допомогою функції linalg.solve():\\n', np.linalg.solve(sl[:, :4], sl[:, 4:5]))"
   ]
  },
  {
   "cell_type": "code",
   "execution_count": 7,
   "metadata": {},
   "outputs": [
    {
     "output_type": "stream",
     "name": "stdout",
     "text": [
      "A = [[ 2  1  3]\n [ 1 -2  0]\n [ 4 -3  0]] \nB = [[ 22 -14   3]\n [  6  -7   0]\n [ 11   3  15]]\n3*(A + B)*(AB - 2A) =\n [[ 6492 -2694  3339]\n [ 1443  -696   864]\n [ 6345 -2565  2565]]\n"
     ]
    }
   ],
   "source": [
    "print(\"3. Обчислити значення матричного виразу.\")\n",
    "a = np.array([[2,1,3], [1,-2,0], [4,-3,0]])\n",
    "b = np.array([[22,-14,3], [6,-7,0], [11,3,15]])\n",
    "print('A =', a, '\\nB =', b)\n",
    "print('3*(A + B)*(AB - 2A) =\\n', 3*np.dot((a+b),(np.dot(a,b)) - np.dot(2,a)))"
   ]
  },
  {
   "cell_type": "code",
   "execution_count": 30,
   "metadata": {},
   "outputs": [
    {
     "output_type": "stream",
     "name": "stdout",
     "text": [
      "4. Розв’язати рівняння за допомогою оберненої матриці і виконати перевірку за допомогою: a) матричного множення;b) функції numpy.linalg.solve().\nРiшення рiвняння X =\n [[ 3.08  1.72 -6.24]\n [-2.24 -1.16  5.72]\n [ 0.44 -0.04 -0.32]]\nПеревiрка матричним множенням A * X =\n [[-1.00000000e+00  4.44089210e-16  5.00000000e+00]\n [ 2.00000000e+00  1.00000000e+00  3.00000000e+00]\n [-5.55111512e-17 -2.00000000e+00  4.00000000e+00]]\nПеревiрка за допомогою функції linalg.solve():\n [[ 3.08  1.72 -6.24]\n [-2.24 -1.16  5.72]\n [ 0.44 -0.04 -0.32]]\n"
     ]
    }
   ],
   "source": [
    "print(\"4. Розв’язати рівняння за допомогою оберненої матриці і виконати перевірку за допомогою: a) матричного множення;b) функції numpy.linalg.solve().\")\n",
    "a = np.array([[2, 3, -1], [4,5,2], [-1,0,7]])\n",
    "b = np.array([[-1,0,5], [2, 1, 3], [0,-2, 4]])\n",
    "inv_a = np.linalg.inv(a)\n",
    "x = np.dot(inv_a, b)\n",
    "print('Рiшення рiвняння X =\\n', x)\n",
    "print('Перевiрка матричним множенням A * X =\\n', np.dot(a, x))\n",
    "print('Перевiрка за допомогою функції linalg.solve():\\n', np.linalg.solve(a, b))"
   ]
  }
 ]
}