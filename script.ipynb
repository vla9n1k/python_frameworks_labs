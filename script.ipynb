{
 "metadata": {
  "language_info": {
   "codemirror_mode": {
    "name": "ipython",
    "version": 3
   },
   "file_extension": ".py",
   "mimetype": "text/x-python",
   "name": "python",
   "nbconvert_exporter": "python",
   "pygments_lexer": "ipython3",
   "version": "3.8.6-final"
  },
  "orig_nbformat": 2,
  "kernelspec": {
   "name": "Python 3.8.6 64-bit",
   "display_name": "Python 3.8.6 64-bit",
   "metadata": {
    "interpreter": {
     "hash": "95ab7303ed2746327945aa376054eddca8c4eca362915ff95db932dbe7e7ee41"
    }
   }
  }
 },
 "nbformat": 4,
 "nbformat_minor": 2,
 "cells": [
  {
   "source": [
    "# Республіка Гана\n",
    "## Держава в Західній Африці, відома раніше під назвою Золотий Берег. На півночі Гана межує з Буркіна-Фасо, на заході з Кот-д'Івуаром, на сході з Того, а з півдня омивається водами Гвінейської затоки Атлантичного океану\n",
    "<p><u style=\"color: yellow;\">Герб Гани</u></p>\n",
    "<img height=\"100px\" src=\"https://upload.wikimedia.org/wikipedia/commons/thumb/5/59/Coat_of_arms_of_Ghana.svg/128px-Coat_of_arms_of_Ghana.svg.png\"/>\n",
    "<ul style=\"border: 1px solid white; width: 250px;\"><strong>Загальная інформація: </strong>\n",
    "<li>Площа: 238 537 км²</li>\n",
    "<li>Населення: 25 199 609</li>\n",
    "<li>Форма правління: Президентська республіка</li>\n",
    "</ul>\n",
    "<p><i>У країні розвідані поклади золота, алмазів, бокситів, марганцю, нафти.</i></p>\n",
    "<p><a href=\"https://uk.wikipedia.org/wiki/%D0%93%D0%B0%D0%BD%D0%B0\">Джерело інформації</a></p>\n",
    "<svg xmlns=\"http://www.w3.org/2000/svg\" width=\"225\" height=\"150\" viewBox=\"0 0 9 6\">\n",
    "\t<title>Flag of Ghana</title>\n",
    "\t<path fill=\"#006b3f\" d=\"m0 0h9v6H0z\"/>\n",
    "\t<path fill=\"#fcd116\" d=\"m0 0h9v4H0z\"/>\n",
    "\t<path fill=\"#ce1126\" d=\"m0 0h9v2H0z\"/>\n",
    "\t<path d=\"m4.5 2 .6498 2-1.7013-1.2361h2.103L3.8502 4z\"/>\n",
    "</svg>"
   ],
   "cell_type": "markdown",
   "metadata": {
    "tags": []
   }
  },
  {
   "cell_type": "code",
   "execution_count": 2,
   "metadata": {
    "tags": []
   },
   "outputs": [
    {
     "output_type": "stream",
     "name": "stdout",
     "text": "11\n"
    }
   ],
   "source": [
    "from math import sqrt\n",
    "num = int(input('Введите число: '))\n",
    "count = 1\n",
    "i = 1\n",
    "while count < num:\n",
    "    i+=2\n",
    "    for k in range(2, 1+int(sqrt(i+1))):\n",
    "        if i%k == 0:\n",
    "            break\n",
    "    else:\n",
    "        count += 1\n",
    "print(i)\n"
   ]
  },
  {
   "cell_type": "code",
   "execution_count": null,
   "metadata": {},
   "outputs": [],
   "source": []
  }
 ]
}